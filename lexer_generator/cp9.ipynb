{
 "cells": [
  {
   "cell_type": "markdown",
   "metadata": {},
   "source": [
    "# Clase Práctica #9 (Compilación)\n",
    "\n",
    "En esta clase estaremos implementando un **generador de lexer**. Nos apoyaremos en el intérprete de expresiones regulares que implementamos en la clase anterior.\n",
    "\n",
    "Por cuestión de comodidad, en esta clase usaremos una versión de autómata basada en referencias entre estados.\n",
    "La clase `State`, que usaremos para modelar los estados, se encuentra en `cmp.automata`. Pasemos a importala."
   ]
  },
  {
   "cell_type": "code",
   "execution_count": 21,
   "metadata": {},
   "outputs": [],
   "source": [
    "from cmp.automata import State"
   ]
  },
  {
   "cell_type": "markdown",
   "metadata": {},
   "source": [
    "El autómata resulta de la interconexión de estados. Cualquier estado puede usarse como raíz del autómata, pero en función del estado que se escoja será el lenguaje reconocido. Un estado se contruye a partir de un objeto, que se usará para representarlo. Este puede ser un entero, o string, pero también pueden ser otros estados a su vez. Además, es necesario especificar si el estado es final o no. Por defecto se asume que **no** es final."
   ]
  },
  {
   "cell_type": "code",
   "execution_count": 22,
   "metadata": {},
   "outputs": [
    {
     "data": {
      "text/plain": [
       "0"
      ]
     },
     "metadata": {},
     "output_type": "display_data"
    },
    {
     "name": "stdout",
     "output_type": "stream",
     "text": [
      "----------- Estado 0 -------------\n",
      "Identificador: 0\n",
      "Es final: False\n",
      "Transiciones: {'a': [0], 'b': [1]}\n",
      "Epsilon transiciones: set()\n"
     ]
    },
    {
     "data": {
      "text/plain": [
       "1"
      ]
     },
     "metadata": {},
     "output_type": "display_data"
    },
    {
     "name": "stdout",
     "output_type": "stream",
     "text": [
      "----------- Estado 1 -------------\n",
      "Identificador: 1\n",
      "Es final: True\n",
      "Transiciones: {'a': [0], 'b': [1]}\n",
      "Epsilon transiciones: set()\n"
     ]
    }
   ],
   "source": [
    "a = State(0)\n",
    "b = State(1, True)\n",
    "a.add_transition('a', a)\n",
    "a.add_transition('b', b)\n",
    "b.add_transition('a', a)\n",
    "b.add_transition('b', b)\n",
    "\n",
    "display(a)\n",
    "\n",
    "print('----------- Estado 0 -------------')\n",
    "print('Identificador:', a.state)\n",
    "print('Es final:', a.final)\n",
    "print('Transiciones:', a.transitions)\n",
    "print('Epsilon transiciones:', a.epsilon_transitions)\n",
    "\n",
    "display(b)\n",
    "\n",
    "print('----------- Estado 1 -------------')\n",
    "print('Identificador:', b.state)\n",
    "print('Es final:', b.final)\n",
    "print('Transiciones:', b.transitions)\n",
    "print('Epsilon transiciones:', b.epsilon_transitions)"
   ]
  },
  {
   "cell_type": "markdown",
   "metadata": {},
   "source": [
    "Las **transiciones** entre estados se añaden a través del método `<origin>.add_transition(symbol, end)`. En el caso de las **epsilon transiciones**, se usa `<origin>.add_epsilon_transition(end)`. Las transiciones entre estados son potencialmente no deterministas. Dependerá del autómata construido si se comporta de dicha forma o no."
   ]
  },
  {
   "cell_type": "code",
   "execution_count": 23,
   "metadata": {},
   "outputs": [
    {
     "data": {
      "text/plain": [
       "2"
      ]
     },
     "metadata": {},
     "output_type": "display_data"
    }
   ],
   "source": [
    "c = State(2)\n",
    "c.add_epsilon_transition(a)\n",
    "c.add_epsilon_transition(b)\n",
    "\n",
    "display(c)"
   ]
  },
  {
   "cell_type": "markdown",
   "metadata": {},
   "source": [
    "Se provee un mecanismo de conversión de autómata no determinista a determinista. Nótese que la transformación es solo sobre la estructura del autómata subyacente (se sigue usando la misma clase `State`). Los nodos del autómata original pasan ha formar parte del identificador de los nuevos estados: al consultar el campo `state`, se obtiene una tupla con los posibles estados en los que podría estar el autómata original."
   ]
  },
  {
   "cell_type": "code",
   "execution_count": 24,
   "metadata": {},
   "outputs": [
    {
     "data": {
      "text/plain": [
       "(0, 1, 2)"
      ]
     },
     "metadata": {},
     "output_type": "display_data"
    }
   ],
   "source": [
    "display(c.to_deterministic())"
   ]
  },
  {
   "cell_type": "markdown",
   "metadata": {},
   "source": [
    "La clase `State` brinda el método `from_nfa` por compatibilidad con la API de autómatas que estuvimos usando hasta la clase anterior. Este método construye una instancia de `State` a partir de una instancia de `NFA` (o por tanto de `DFA`). Se puede incluir un segundo argumento al llamado del método `from_nfa` si se desea obtener, además del estado inicial del autómata resultante, el resto de los estados que fueron creados."
   ]
  },
  {
   "cell_type": "code",
   "execution_count": 25,
   "metadata": {},
   "outputs": [
    {
     "name": "stdout",
     "output_type": "stream",
     "text": [
      "Original (DFA):\n"
     ]
    },
    {
     "data": {
      "text/plain": [
       "<cmp.tools.automata.DFA at 0x1cbc6c03090>"
      ]
     },
     "metadata": {},
     "output_type": "display_data"
    },
    {
     "name": "stdout",
     "output_type": "stream",
     "text": [
      "Copia (State):\n"
     ]
    },
    {
     "data": {
      "text/plain": [
       "0"
      ]
     },
     "metadata": {},
     "output_type": "display_data"
    }
   ],
   "source": [
    "from cmp.tools.automata import DFA\n",
    "\n",
    "automaton = DFA(states=3, finals=[2], transitions={\n",
    "    (0, 'a'): 0,\n",
    "    (0, 'b'): 1,\n",
    "    (1, 'a'): 2,\n",
    "    (1, 'b'): 1,\n",
    "    (2, 'a'): 0,\n",
    "    (2, 'b'): 1,\n",
    "})\n",
    "print('Original (DFA):')\n",
    "display(automaton)\n",
    "\n",
    "automaton = State.from_nfa(automaton)\n",
    "print('Copia (State):')\n",
    "display(automaton)"
   ]
  },
  {
   "cell_type": "markdown",
   "metadata": {},
   "source": [
    "Además, se provee un mecanismo de reconocimiento de cadenas (independientemente de si el autómata subyacente es determinista o no). Este es accesible a través del método `<state>.recognize(string)`."
   ]
  },
  {
   "cell_type": "code",
   "execution_count": 26,
   "metadata": {},
   "outputs": [],
   "source": [
    "assert automaton.recognize('ba')\n",
    "assert automaton.recognize('aababbaba')\n",
    "\n",
    "assert not automaton.recognize('')\n",
    "assert not automaton.recognize('aabaa')\n",
    "assert not automaton.recognize('aababb')"
   ]
  },
  {
   "cell_type": "markdown",
   "metadata": {},
   "source": [
    "## Generador de Lexer\n",
    "\n",
    "Como estudiamos en conferencia, el generador de lexer se basa en un conjunto de expresiones regulares. Cada una de ellas está asociada a un tipo de token. El lexer termina siendo un autómata finito determinista con ciertas peculiaridades:\n",
    "- Resulta de transformar el autómata unión entre todas las expresiones regulares del lenguaje, y convertirlo a determinista.\n",
    "- Cada estado final almacena los tipos de tokens que se reconocen al alcanzarlo. Se establece una prioridad entre ellos para poder desambiaguar.\n",
    "- Para tokenizar, la cadena de entrada viaja repetidas veces por el autómata.\n",
    "    - Cada vez, se comienza por el estado inicial, pero se continúa a partir de la última sección de la cadena que fue reconocida.\n",
    "    - Cuando el autómata se \"traba\" durante el reconocimiento de una cadena, se reporta la ocurrencia de un token. Su lexema está formado por la concatenación de los símbolos que fueron consumidos desde el inicio y hasta pasar por el último estado final antes de trabarse. Su tipo de token es el de mayor relevancia entre los anotados en el estado final.\n",
    "    - Al finalizar de consumir toda la cadena, se reporta el token de fin de cadena.\n",
    "\n",
    "### Expresiones regulares\n",
    "\n",
    "El engine de expresiones regulares que implementamos en la clase anterior está disponible en `cmp.tool.regex`. La clase `Regex` se instancia a partir de un string que representa la expresión regular. Cada instancia posee un campo `automaton` que permite acceder al `DFA` que reconoce el lenguaje denotado por dicha expresión regular. Las instancias de `Regex` son invocables, recibiendo como único parámentro un string, y devuelve si el string pertenece o no al lenguaje denotado por la expresión regular."
   ]
  },
  {
   "cell_type": "code",
   "execution_count": 27,
   "metadata": {},
   "outputs": [],
   "source": [
    "from cmp.tools.regex import Regex"
   ]
  },
  {
   "cell_type": "markdown",
   "metadata": {},
   "source": [
    "### Lexer\n",
    "\n",
    "Implementemos el generador de lexer. El lexer se construirá a partir de la tabla de expresiones regulares (una lista de tuplas con la forma: `(<token_type>, <regex_str>)`). Esta tabla se recibe como el parámetro `table` en el contructor de la clase `Lexer`. La prioridad/relevancia de cada tipo de token está marcada por el índice que ocupa en la tabla. Los tipos de tokens cuyas expresiones regulares estén registradas más cerca del inicio de la tabla tiene más prioridad.\n",
    "- **_build_regexs:** devuelve un lista con los autómatas (instancias de `State`) de cada expresión regular. Los estados finales de los respectivos autómatas deben marcarse (campo `tag`) con la prioridad y tipo de token según la expresión regular que lo originó.\n",
    "- **_build_automaton:** devuelve la versión determinista del autómata que reconoce los tokens del lenguaje.\n",
    "- **_walk:** Devuelve el último estado final visitado, y lexema consumido, durante el reconocimiento del string que se recibe como entrada.\n",
    "- **_tokenize:** Devuelve tuplas de la forma `(lex, token_type)` que resultan de tokenizar la entrada. Debe manejar el caso en que la entrada no puede ser tokenizada completamente (se detecta cuando en una iteración la cadena no avanzó)."
   ]
  },
  {
   "cell_type": "code",
   "execution_count": 28,
   "metadata": {},
   "outputs": [],
   "source": [
    "from cmp.utils import Token\n",
    "class Lexer:\n",
    "    def __init__(self, table, eof):\n",
    "        self.eof = eof\n",
    "        self.regexs = self._build_regexs(table)\n",
    "        self.automaton = self._build_automaton()\n",
    "\n",
    "    def _build_regexs(self, table):\n",
    "        regexs = []\n",
    "        for n, (token_type, regex) in enumerate(table):\n",
    "            actual_regex = Regex(regex)\n",
    "            actual_automaton = actual_regex.automaton\n",
    "            states = State.from_nfa(actual_automaton,True)\n",
    "            filter()\n",
    "            regexs.append(states[0])\n",
    "        return regexs\n",
    "\n",
    "    def _build_automaton(self):\n",
    "        start = State('start')\n",
    "        end = State('end',True)\n",
    "        for regex in self.regexs:\n",
    "            start.add_epsilon_transition(regex)\n",
    "\n",
    "        return start.to_deterministic()\n",
    "    \n",
    "        \n",
    "    def _walk(self, string):\n",
    "        state = self.automaton\n",
    "        final = state if state.final else None\n",
    "        final_lex = lex = ''\n",
    "\n",
    "        for symbol in string:\n",
    "            if symbol in state.transitions:\n",
    "                state[0] = state.transitions[symbol]\n",
    "                lex += symbol\n",
    "                if state.final:\n",
    "                    final = state\n",
    "                    final_lex = lex\n",
    "            else:\n",
    "                break\n",
    "\n",
    "        return final, final_lex\n",
    "    \n",
    "    def _tokenize(self, text):\n",
    "        while text:\n",
    "            final, lex = self._walk(text)\n",
    "            if final is None:\n",
    "                yield lex, self.eof\n",
    "                break\n",
    "            yield lex, final.tag\n",
    "            text = text[len(lex):]\n",
    "        yield '$', self.eof\n",
    "    \n",
    "    def __call__(self, text):\n",
    "        return [ Token(lex, ttype) for lex, ttype in self._tokenize(text) ]"
   ]
  },
  {
   "cell_type": "markdown",
   "metadata": {},
   "source": [
    "Construyamos un lexer con algunas expresiones regulares solo para comprobar la validez de la implementación. Usaremos `str` para marcar los tipos de tokens, pero recuerde que realmente se usan los símbolos de la gramática ya que son los símbolos con los que trabaja el parser."
   ]
  },
  {
   "cell_type": "code",
   "execution_count": 29,
   "metadata": {},
   "outputs": [
    {
     "name": "stdout",
     "output_type": "stream",
     "text": [
      "Non-zero digits: 1|2|3|4|5|6|7|8|9\n",
      "Letters: a|b|c|d|e|f|g|h|i|j|k|l|m|n|o|p|q|r|s|t|u|v|w|x|y|z\n"
     ]
    },
    {
     "ename": "TypeError",
     "evalue": "unhashable type: 'list'",
     "output_type": "error",
     "traceback": [
      "\u001b[1;31m---------------------------------------------------------------------------\u001b[0m",
      "\u001b[1;31mTypeError\u001b[0m                                 Traceback (most recent call last)",
      "Cell \u001b[1;32mIn[29], line 7\u001b[0m\n\u001b[0;32m      4\u001b[0m \u001b[38;5;28mprint\u001b[39m(\u001b[38;5;124m'\u001b[39m\u001b[38;5;124mNon-zero digits:\u001b[39m\u001b[38;5;124m'\u001b[39m, nonzero_digits)\n\u001b[0;32m      5\u001b[0m \u001b[38;5;28mprint\u001b[39m(\u001b[38;5;124m'\u001b[39m\u001b[38;5;124mLetters:\u001b[39m\u001b[38;5;124m'\u001b[39m, letters)\n\u001b[1;32m----> 7\u001b[0m lexer \u001b[38;5;241m=\u001b[39m \u001b[43mLexer\u001b[49m\u001b[43m(\u001b[49m\u001b[43m[\u001b[49m\n\u001b[0;32m      8\u001b[0m \u001b[43m    \u001b[49m\u001b[43m(\u001b[49m\u001b[38;5;124;43m'\u001b[39;49m\u001b[38;5;124;43mnum\u001b[39;49m\u001b[38;5;124;43m'\u001b[39;49m\u001b[43m,\u001b[49m\u001b[43m \u001b[49m\u001b[38;5;124;43mf\u001b[39;49m\u001b[38;5;124;43m'\u001b[39;49m\u001b[38;5;124;43m(\u001b[39;49m\u001b[38;5;132;43;01m{\u001b[39;49;00m\u001b[43mnonzero_digits\u001b[49m\u001b[38;5;132;43;01m}\u001b[39;49;00m\u001b[38;5;124;43m)(0|\u001b[39;49m\u001b[38;5;132;43;01m{\u001b[39;49;00m\u001b[43mnonzero_digits\u001b[49m\u001b[38;5;132;43;01m}\u001b[39;49;00m\u001b[38;5;124;43m)*\u001b[39;49m\u001b[38;5;124;43m'\u001b[39;49m\u001b[43m)\u001b[49m\u001b[43m,\u001b[49m\n\u001b[0;32m      9\u001b[0m \u001b[43m    \u001b[49m\u001b[43m(\u001b[49m\u001b[38;5;124;43m'\u001b[39;49m\u001b[38;5;124;43mfor\u001b[39;49m\u001b[38;5;124;43m'\u001b[39;49m\u001b[43m \u001b[49m\u001b[43m,\u001b[49m\u001b[43m \u001b[49m\u001b[38;5;124;43m'\u001b[39;49m\u001b[38;5;124;43mfor\u001b[39;49m\u001b[38;5;124;43m'\u001b[39;49m\u001b[43m)\u001b[49m\u001b[43m,\u001b[49m\n\u001b[0;32m     10\u001b[0m \u001b[43m    \u001b[49m\u001b[43m(\u001b[49m\u001b[38;5;124;43m'\u001b[39;49m\u001b[38;5;124;43mforeach\u001b[39;49m\u001b[38;5;124;43m'\u001b[39;49m\u001b[43m \u001b[49m\u001b[43m,\u001b[49m\u001b[43m \u001b[49m\u001b[38;5;124;43m'\u001b[39;49m\u001b[38;5;124;43mforeach\u001b[39;49m\u001b[38;5;124;43m'\u001b[39;49m\u001b[43m)\u001b[49m\u001b[43m,\u001b[49m\n\u001b[0;32m     11\u001b[0m \u001b[43m    \u001b[49m\u001b[43m(\u001b[49m\u001b[38;5;124;43m'\u001b[39;49m\u001b[38;5;124;43mspace\u001b[39;49m\u001b[38;5;124;43m'\u001b[39;49m\u001b[43m,\u001b[49m\u001b[43m \u001b[49m\u001b[38;5;124;43m'\u001b[39;49m\u001b[38;5;124;43m  *\u001b[39;49m\u001b[38;5;124;43m'\u001b[39;49m\u001b[43m)\u001b[49m\u001b[43m,\u001b[49m\n\u001b[0;32m     12\u001b[0m \u001b[43m    \u001b[49m\u001b[43m(\u001b[49m\u001b[38;5;124;43m'\u001b[39;49m\u001b[38;5;124;43mid\u001b[39;49m\u001b[38;5;124;43m'\u001b[39;49m\u001b[43m,\u001b[49m\u001b[43m \u001b[49m\u001b[38;5;124;43mf\u001b[39;49m\u001b[38;5;124;43m'\u001b[39;49m\u001b[38;5;124;43m(\u001b[39;49m\u001b[38;5;132;43;01m{\u001b[39;49;00m\u001b[43mletters\u001b[49m\u001b[38;5;132;43;01m}\u001b[39;49;00m\u001b[38;5;124;43m)(\u001b[39;49m\u001b[38;5;132;43;01m{\u001b[39;49;00m\u001b[43mletters\u001b[49m\u001b[38;5;132;43;01m}\u001b[39;49;00m\u001b[38;5;124;43m|0|\u001b[39;49m\u001b[38;5;132;43;01m{\u001b[39;49;00m\u001b[43mnonzero_digits\u001b[49m\u001b[38;5;132;43;01m}\u001b[39;49;00m\u001b[38;5;124;43m)*\u001b[39;49m\u001b[38;5;124;43m'\u001b[39;49m\u001b[43m)\u001b[49m\n\u001b[0;32m     13\u001b[0m \u001b[43m]\u001b[49m\u001b[43m,\u001b[49m\u001b[43m \u001b[49m\u001b[38;5;124;43m'\u001b[39;49m\u001b[38;5;124;43meof\u001b[39;49m\u001b[38;5;124;43m'\u001b[39;49m\u001b[43m)\u001b[49m\n\u001b[0;32m     15\u001b[0m text \u001b[38;5;241m=\u001b[39m \u001b[38;5;124m'\u001b[39m\u001b[38;5;124m5465 for 45foreach fore\u001b[39m\u001b[38;5;124m'\u001b[39m\n\u001b[0;32m     16\u001b[0m \u001b[38;5;28mprint\u001b[39m(\u001b[38;5;124mf\u001b[39m\u001b[38;5;124m'\u001b[39m\u001b[38;5;130;01m\\n\u001b[39;00m\u001b[38;5;124m>>> Tokenizando: \u001b[39m\u001b[38;5;124m\"\u001b[39m\u001b[38;5;132;01m{\u001b[39;00mtext\u001b[38;5;132;01m}\u001b[39;00m\u001b[38;5;124m\"\u001b[39m\u001b[38;5;124m'\u001b[39m)\n",
      "Cell \u001b[1;32mIn[28], line 6\u001b[0m, in \u001b[0;36mLexer.__init__\u001b[1;34m(self, table, eof)\u001b[0m\n\u001b[0;32m      4\u001b[0m \u001b[38;5;28mself\u001b[39m\u001b[38;5;241m.\u001b[39meof \u001b[38;5;241m=\u001b[39m eof\n\u001b[0;32m      5\u001b[0m \u001b[38;5;28mself\u001b[39m\u001b[38;5;241m.\u001b[39mregexs \u001b[38;5;241m=\u001b[39m \u001b[38;5;28mself\u001b[39m\u001b[38;5;241m.\u001b[39m_build_regexs(table)\n\u001b[1;32m----> 6\u001b[0m \u001b[38;5;28mself\u001b[39m\u001b[38;5;241m.\u001b[39mautomaton \u001b[38;5;241m=\u001b[39m \u001b[38;5;28;43mself\u001b[39;49m\u001b[38;5;241;43m.\u001b[39;49m\u001b[43m_build_automaton\u001b[49m\u001b[43m(\u001b[49m\u001b[43m)\u001b[49m\n",
      "Cell \u001b[1;32mIn[28], line 21\u001b[0m, in \u001b[0;36mLexer._build_automaton\u001b[1;34m(self)\u001b[0m\n\u001b[0;32m     19\u001b[0m end \u001b[38;5;241m=\u001b[39m State(\u001b[38;5;124m'\u001b[39m\u001b[38;5;124mend\u001b[39m\u001b[38;5;124m'\u001b[39m,\u001b[38;5;28;01mTrue\u001b[39;00m)\n\u001b[0;32m     20\u001b[0m \u001b[38;5;28;01mfor\u001b[39;00m regex \u001b[38;5;129;01min\u001b[39;00m \u001b[38;5;28mself\u001b[39m\u001b[38;5;241m.\u001b[39mregexs:\n\u001b[1;32m---> 21\u001b[0m     \u001b[43mstart\u001b[49m\u001b[38;5;241;43m.\u001b[39;49m\u001b[43madd_epsilon_transition\u001b[49m\u001b[43m(\u001b[49m\u001b[43mregex\u001b[49m\u001b[43m)\u001b[49m\n\u001b[0;32m     23\u001b[0m \u001b[38;5;28;01mreturn\u001b[39;00m start\u001b[38;5;241m.\u001b[39mto_deterministic()\n",
      "File \u001b[1;32mc:\\Alfre\\School\\Compilacion\\CP\\cp9\\cmp\\automata.py:43\u001b[0m, in \u001b[0;36mState.add_epsilon_transition\u001b[1;34m(self, state)\u001b[0m\n\u001b[0;32m     42\u001b[0m \u001b[38;5;28;01mdef\u001b[39;00m \u001b[38;5;21madd_epsilon_transition\u001b[39m(\u001b[38;5;28mself\u001b[39m, state):\n\u001b[1;32m---> 43\u001b[0m     \u001b[38;5;28;43mself\u001b[39;49m\u001b[38;5;241;43m.\u001b[39;49m\u001b[43mepsilon_transitions\u001b[49m\u001b[38;5;241;43m.\u001b[39;49m\u001b[43madd\u001b[49m\u001b[43m(\u001b[49m\u001b[43mstate\u001b[49m\u001b[43m)\u001b[49m\n\u001b[0;32m     44\u001b[0m     \u001b[38;5;28;01mreturn\u001b[39;00m \u001b[38;5;28mself\u001b[39m\n",
      "\u001b[1;31mTypeError\u001b[0m: unhashable type: 'list'"
     ]
    }
   ],
   "source": [
    "nonzero_digits = '|'.join(str(n) for n in range(1,10))\n",
    "letters = '|'.join(chr(n) for n in range(ord('a'),ord('z')+1))\n",
    "\n",
    "print('Non-zero digits:', nonzero_digits)\n",
    "print('Letters:', letters)\n",
    "\n",
    "lexer = Lexer([\n",
    "    ('num', f'({nonzero_digits})(0|{nonzero_digits})*'),\n",
    "    ('for' , 'for'),\n",
    "    ('foreach' , 'foreach'),\n",
    "    ('space', '  *'),\n",
    "    ('id', f'({letters})({letters}|0|{nonzero_digits})*')\n",
    "], 'eof')\n",
    "\n",
    "text = '5465 for 45foreach fore'\n",
    "print(f'\\n>>> Tokenizando: \"{text}\"')\n",
    "tokens = lexer(text)\n",
    "print(tokens)\n",
    "assert [t.token_type for t in tokens] == ['num', 'space', 'for', 'space', 'num', 'foreach', 'space', 'id', 'eof']\n",
    "assert [t.lex for t in tokens] == ['5465', ' ', 'for', ' ', '45', 'foreach', ' ', 'fore', '$']\n",
    "\n",
    "text = '4forense forforeach for4foreach foreach 4for'\n",
    "print(f'\\n>>> Tokenizando: \"{text}\"')\n",
    "tokens = lexer(text)\n",
    "print(tokens)\n",
    "assert [t.token_type for t in tokens] == ['num', 'id', 'space', 'id', 'space', 'id', 'space', 'foreach', 'space', 'num', 'for', 'eof']\n",
    "assert [t.lex for t in tokens] == ['4', 'forense', ' ', 'forforeach', ' ', 'for4foreach', ' ', 'foreach', ' ', '4', 'for', '$']"
   ]
  },
  {
   "cell_type": "markdown",
   "metadata": {},
   "source": [
    "## Propuestas\n",
    "\n",
    "- Genere un lexer para el lenguaje de expresiones aritméticas que estuvimos trabajando a inicios del curso.\n",
    "- Implemente un algoritmo para eliminar los estados muertos de un autómata. Recordemos que esto es conveniente puesto que de esta forma el autómata del lexer detecta los tokens más de prisa."
   ]
  }
 ],
 "metadata": {
  "kernelspec": {
   "display_name": "Python 3",
   "language": "python",
   "name": "python3"
  },
  "language_info": {
   "codemirror_mode": {
    "name": "ipython",
    "version": 3
   },
   "file_extension": ".py",
   "mimetype": "text/x-python",
   "name": "python",
   "nbconvert_exporter": "python",
   "pygments_lexer": "ipython3",
   "version": "3.11.6"
  }
 },
 "nbformat": 4,
 "nbformat_minor": 4
}
